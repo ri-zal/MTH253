{
 "cells": [
  {
   "cell_type": "code",
   "execution_count": null,
   "metadata": {},
   "outputs": [],
   "source": [
    "from IPython.display import display, Math    # For displaying LaTeX \n",
    "import math                                  # Leave this be, usually for math.factorial()                               \n",
    "import matplotlib.pyplot as plt              # For plotting the sequence            \n",
    "import numpy as np                           # Leave this be, usually for np.sin(), np.cos(), etc.               \n",
    "\n",
    "# Sequence function\n",
    "def a(n):\n",
    "    return 1 / n\n",
    "\n",
    "# Start at this number, usually n = 0 or n = 1\n",
    "n = 1\n",
    "# Upper bound, how many terms to calculate\n",
    "L = 100\n",
    "# Don't worry about this\n",
    "num = np.arange(n, L + 1)\n",
    "seq = [a(n) for n in num]\n",
    "\n",
    "# Print the first n terms of the sequence\n",
    "def print_first(n):\n",
    "    first_n = seq[:n]\n",
    "    for i, term in enumerate(first_n, start = 1):\n",
    "        display(Math(r\"$S({}) \\approx {}$\".format(i, term)))\n",
    "\n",
    "# Print the last n terms of the sequence\n",
    "def print_last(n):\n",
    "    last_n = seq[-n:]\n",
    "    for i, term in enumerate(last_n, start = 1):\n",
    "        index = len(seq) - n + i\n",
    "        display(Math(r\"$S({}) \\approx {}$\".format(index, term)))\n",
    "\n",
    "# Print the sequence\n",
    "def plot_seq():\n",
    "    plt.style.use(\"fivethirtyeight\")\n",
    "    plt.scatter(num, seq)\n",
    "    plt.xlabel(r\"$n$\")\n",
    "    plt.ylabel(r\"$a_{n}$\")\n",
    "    plt.show()\n",
    "\n",
    "# Call the functions here:\n",
    "print_first(5)\n",
    "print_last(5)\n",
    "plot_seq()"
   ]
  }
 ],
 "metadata": {
  "kernelspec": {
   "display_name": "venv",
   "language": "python",
   "name": "python3"
  },
  "language_info": {
   "codemirror_mode": {
    "name": "ipython",
    "version": 3
   },
   "file_extension": ".py",
   "mimetype": "text/x-python",
   "name": "python",
   "nbconvert_exporter": "python",
   "pygments_lexer": "ipython3",
   "version": "3.12.2"
  }
 },
 "nbformat": 4,
 "nbformat_minor": 2
}
