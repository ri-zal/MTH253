{
 "cells": [
  {
   "cell_type": "code",
   "execution_count": null,
   "metadata": {},
   "outputs": [],
   "source": [
    "from IPython.display import display, Math       # For displaying LaTeX \n",
    "import math                                     # Leave this be, usually for math.factorial() \n",
    "import matplotlib.pyplot as plt                 # For plotting the sequence  \n",
    "import numpy as np                              # Leave this be, usually for np.sin(), np.cos(), etc.\n",
    "\n",
    "# Sequence function\n",
    "# Use parentheses if needed, this function runs according to the order of operations.\n",
    "# 1 / n + 1 IS DIFFERENT FROM 1 / (n + 1)!\n",
    "def a(n):\n",
    "    return 1 / (n + 1) \n",
    "\n",
    "# Start at this number, usually n = 0 or n = 1\n",
    "n = 0\n",
    "# Upper bound, how many terms to calculate\n",
    "L = 100\n",
    "# don't worry about this\n",
    "num = np.arange(n, L + 1)\n",
    "seq = [a(i) for i in num]\n",
    "\n",
    "# Print the first n terms of the sequence\n",
    "def print_first(vals):\n",
    "    first_n = seq[:vals]\n",
    "    for i, term in enumerate(first_n, start = n):\n",
    "        display(Math(r\"$S_{{ {} }} \\approx {}$\".format(i, term)))\n",
    "\n",
    "# Print the last n terms of the sequence\n",
    "def print_last(vals):\n",
    "    last_n = seq[-vals:]\n",
    "    index = len(seq) - vals + 1\n",
    "    for i, term in enumerate(last_n, start = index):\n",
    "        display(Math(r\"$S_{{ {} }} \\approx {}$\".format(i, term)))\n",
    "\n",
    "# Plot the sequence\n",
    "def plot_seq():\n",
    "    plt.clf()\n",
    "    plt.style.use(\"fivethirtyeight\")\n",
    "    plt.scatter(num, seq)\n",
    "    plt.xlabel(r\"$n$\")\n",
    "    plt.ylabel(r\"$a_{n}$\")\n",
    "    plt.show()\n",
    "\n",
    "# Call the functions here:\n",
    "print_first(5)\n",
    "print_last(5)\n",
    "plot_seq()"
   ]
  }
 ],
 "metadata": {
  "kernelspec": {
   "display_name": "venv",
   "language": "python",
   "name": "python3"
  },
  "language_info": {
   "codemirror_mode": {
    "name": "ipython",
    "version": 3
   },
   "file_extension": ".py",
   "mimetype": "text/x-python",
   "name": "python",
   "nbconvert_exporter": "python",
   "pygments_lexer": "ipython3",
   "version": "3.11.5"
  }
 },
 "nbformat": 4,
 "nbformat_minor": 2
}
