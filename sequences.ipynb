from IPython.display import display, Math		# For displaying LaTeX 
import math                                  	# Leave this be, usually for math.factorial()                               
import matplotlib.pyplot as plt              	# For plotting the sequence            
import numpy as np                           	# Leave this be, usually for np.sin(), np.cos(), etc.               

# Sequence function
def a(n):
	return 1 / n

# Start at this number, usually n = 0 or n = 1
n = 1
# Upper bound, how many terms to calculate
L = 100
# Don't worry about this
num = np.arange(n, L + 1)
seq = [a(n) for n in num]

# Print the first n terms of the sequence
def print_first(n):
	first_n = seq[:n]
    for i, term in enumerate(first_n, start = 1):
        display(Math(r"$S({}) \approx {}$".format(i, term)))

# Print the last n terms of the sequence
def print_last(n):
    last_n = seq[-n:]
    for i, term in enumerate(last_n, start = 1):
        index = len(seq) - n + i
        display(Math(r"$S({}) \approx {}$".format(index, term)))

# Print the sequence
def plot_seq():
    plt.style.use("fivethirtyeight")
    plt.scatter(num, seq)
    plt.xlabel(r"$n$")
    plt.ylabel(r"$a_{n}$")
    plt.show()

# Call the functions here:
print_first(5)
print_last(5)
plot_seq()
