{
 "cells": [
  {
   "cell_type": "code",
   "execution_count": 4,
   "metadata": {},
   "outputs": [
    {
     "data": {
      "text/latex": [
       "$\\displaystyle \\text{Taylor series expansion of } e^{x} \\text{ about } x = 0 \\text{ up to the 5th order}:$"
      ],
      "text/plain": [
       "<IPython.core.display.Math object>"
      ]
     },
     "metadata": {},
     "output_type": "display_data"
    },
    {
     "data": {
      "text/latex": [
       "$\\displaystyle \\frac{x^{5}}{120} + \\frac{x^{4}}{24} + \\frac{x^{3}}{6} + \\frac{x^{2}}{2} + x + 1$"
      ],
      "text/plain": [
       "<IPython.core.display.Math object>"
      ]
     },
     "metadata": {},
     "output_type": "display_data"
    }
   ],
   "source": [
    "# Importing * is for simplification for non-CS students,\n",
    "# IF you know what to type I suggest you use the sp namespace for SymPy. \n",
    "import matplotlib.pyplot as plt\n",
    "from sympy import *\n",
    "from IPython.display import display, Math\n",
    "\n",
    "# Fancy messages\n",
    "def display_msg():\n",
    "    if f == log(x):\n",
    "        display(Math(r\"$\\text{{Taylor series expansion of }} ln(x) \\text{{ about }} x = {} \\text{{ up to the {}th order:}}$\".format(a, n_end)))\n",
    "    else:\n",
    "        display(Math(r\"$\\text{{Taylor series expansion of }} {} \\text{{ about }} x = {} \\text{{ up to the {}th order}}:$\".format(latex(f), a, n_end)))\n",
    "\n",
    "# Compute the Taylor series expansion of f about x = a up to the \"n_end\"th order\n",
    "def taylor_series():\n",
    "    tp = f.series(x, a, n_end + 1).removeO()\n",
    "    return tp\n",
    "\n",
    "# Plot f and its Taylor polynomial\n",
    "def plot_tp():\n",
    "    # Change \"qt\" to \"inline\" if you don't want the graph in a new window.\n",
    "    %matplotlib qt\n",
    "    plt.style.use(\"bmh\")\n",
    "    p = plot(f, TP, xlim = [-10,10], ylim = [-5,5], show = False, legend = True)\n",
    "    \n",
    "    p[0].line_color = 'blue'\n",
    "    p[1].line_color = 'red'\n",
    "    \n",
    "    p[0].label      = \"$\" + latex(f) + \"$\"\n",
    "    p[1].label      = \"Taylor Polynomial\"\n",
    "    \n",
    "    p.show()\n",
    "\n",
    "##################################################################################################\n",
    "# START HERE:\n",
    "# Define the unknown variable here, usually x or y or n:\n",
    "# Ex. If you want sin(n) instead of sin(x) change symbols(\"x\") to symbols(\"n\")\n",
    "x = symbols(\"x\")\n",
    "# Define function here:\n",
    "# If you want ln(x), type log(x). Default base is e.\n",
    "f = exp(x)\n",
    "# Define center of approximation here:\n",
    "# Make sure this is not 0 for functions that have undefined behavior at this point, like ln(x)!\n",
    "a = 0\n",
    "# Calculate the Taylor series expansion of f up to this order:\n",
    "n_end = 5\n",
    "\n",
    "# CALL THE FUNCTIONS HERE:\n",
    "display_msg()\n",
    "# This stores our Taylor polynomial into TP.\n",
    "TP = taylor_series()\n",
    "display(Math(latex(TP)))\n",
    "plot_tp()"
   ]
  },
  {
   "cell_type": "code",
   "execution_count": 6,
   "metadata": {},
   "outputs": [
    {
     "data": {
      "text/latex": [
       "$\\displaystyle \\text{Finding the degree of the Taylor polynomial that will approx. the function } e^{x} \\text{ at } x = 2$"
      ],
      "text/plain": [
       "<IPython.core.display.Math object>"
      ]
     },
     "metadata": {},
     "output_type": "display_data"
    },
    {
     "name": "stdout",
     "output_type": "stream",
     "text": [
      "For n = 0, the difference is 6.38905609893065\n",
      "For n = 1, the difference is 4.38905609893065\n",
      "For n = 2, the difference is 2.38905609893065\n",
      "For n = 3, the difference is 1.05572276559732\n",
      "For n = 4, the difference is 0.389056098930650\n",
      "For n = 5, the difference is 0.122389432263984\n",
      "For n = 6, the difference is 0.0335005433750947\n",
      "For n = 7, the difference is 0.00810371797826927\n",
      "For n = 8, the difference is 0.00175451162906293\n",
      "For n = 9, the difference is 0.000343576884794848\n",
      "For n = 10, the difference is 0.0000613899359412325\n",
      "The degree of the Taylor polynomial is 10\n",
      "The Taylor polynomial approximation of f(2) is 7.38899470899471\n",
      "The actual value of f(2) is 7.38905609893065\n",
      "The difference is 0.0000613899359418468\n"
     ]
    }
   ],
   "source": [
    "# PART 2: TAYLOR POLYNOMIAL APPROX. WITH TOLERANCE:\n",
    "# MAKE SURE TO RUN THE FIRST CELL ABOVE AT LEAST ONCE BEFORE THIS,\n",
    "# AFTER THAT YOU DON'T HAVE TO WORRY ABOUT IT AGAIN.\n",
    "\n",
    "def approx_b():\n",
    "    global difference, TP, n\n",
    "    while difference > tol:\n",
    "        TP = f.series(x, a, n).removeO()\n",
    "        TP_value = TP.subs(x, b)\n",
    "        actual_value = f.subs(x, b)\n",
    "        difference = abs(TP_value - actual_value).evalf()\n",
    "        print(f\"For n = {n - 1}, the difference is {difference}\")\n",
    "        # If you want to see how the series expands, uncomment the code below:\n",
    "        # display(Math(latex(TP)))\n",
    "        if difference > tol:\n",
    "            n += 1\n",
    "\n",
    "def display_results():\n",
    "    TP_value = TP.subs(x, b).evalf()\n",
    "    actual_value = f.subs(x, b).evalf()\n",
    "    difference = abs(TP_value - actual_value).evalf()\n",
    "    print(f\"The Taylor polynomial approximation of f({b}) is {TP_value}\")\n",
    "    print(f\"The actual value of f({b}) is {actual_value}\")\n",
    "    print(f\"The difference is {difference}\")\n",
    "\n",
    "##############################################################################################\n",
    "# START HERE:\n",
    "# Define the unknown variable in the function here, usually x, y, or n:\n",
    "# Ex. if you want sin(n) instead of sin(x), change symbols(\"x\") to symbols(\"n\") instead.\n",
    "x = symbols(\"x\")\n",
    "\n",
    "# Define your function here:\n",
    "f = exp(x)\n",
    "# Center of approximation for the Taylor series here:\n",
    "a = 0\n",
    "# Ignore, initializes the taylor polynomial. \n",
    "TP = 0\n",
    "# Start TP at this degree:\n",
    "n = 1\n",
    "\n",
    "# THIS IS THE f(b) YOU WANT TO APPROXIMATE:\n",
    "b = 2\n",
    "# We want TP(b) to be within this tolerance of the true value f(b):\n",
    "tol = 0.0001\n",
    "# Ignore, initializes the difference.\n",
    "difference = float(\"inf\")\n",
    "\n",
    "display(Math(r\"$\\text{{Finding the degree of the Taylor polynomial that will approx. the function }} {} \\text{{ at }} x = {}$\".format(latex(f), b)))\n",
    "\n",
    "# Call approx_b() here:\n",
    "approx_b()\n",
    "print(f\"The degree of the Taylor polynomial is {n - 1}\")\n",
    "display_results()\n",
    "\n",
    "# Just comment this out if you don't want the plot.\n",
    "# If you want to change to an inline function, see the function in the other cell above^^:\n",
    "plot_tp()"
   ]
  }
 ],
 "metadata": {
  "kernelspec": {
   "display_name": "base",
   "language": "python",
   "name": "python3"
  },
  "language_info": {
   "codemirror_mode": {
    "name": "ipython",
    "version": 3
   },
   "file_extension": ".py",
   "mimetype": "text/x-python",
   "name": "python",
   "nbconvert_exporter": "python",
   "pygments_lexer": "ipython3",
   "version": "3.11.5"
  }
 },
 "nbformat": 4,
 "nbformat_minor": 2
}
