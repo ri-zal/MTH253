{
 "cells": [
  {
   "cell_type": "code",
   "execution_count": 4,
   "metadata": {},
   "outputs": [
    {
     "data": {
      "text/latex": [
       "$\\displaystyle S_{ 1 } \\approx 0.5$"
      ],
      "text/plain": [
       "<IPython.core.display.Math object>"
      ]
     },
     "metadata": {},
     "output_type": "display_data"
    },
    {
     "data": {
      "text/latex": [
       "$\\displaystyle S_{ 2 } \\approx 0.8333333333333333$"
      ],
      "text/plain": [
       "<IPython.core.display.Math object>"
      ]
     },
     "metadata": {},
     "output_type": "display_data"
    },
    {
     "data": {
      "text/latex": [
       "$\\displaystyle S_{ 3 } \\approx 1.0833333333333333$"
      ],
      "text/plain": [
       "<IPython.core.display.Math object>"
      ]
     },
     "metadata": {},
     "output_type": "display_data"
    },
    {
     "data": {
      "text/latex": [
       "$\\displaystyle S_{ 4 } \\approx 1.2833333333333332$"
      ],
      "text/plain": [
       "<IPython.core.display.Math object>"
      ]
     },
     "metadata": {},
     "output_type": "display_data"
    },
    {
     "data": {
      "text/latex": [
       "$\\displaystyle S_{ 5 } \\approx 1.45$"
      ],
      "text/plain": [
       "<IPython.core.display.Math object>"
      ]
     },
     "metadata": {},
     "output_type": "display_data"
    },
    {
     "data": {
      "text/latex": [
       "$\\displaystyle S_{ 96 } \\approx 4.157072425905956$"
      ],
      "text/plain": [
       "<IPython.core.display.Math object>"
      ]
     },
     "metadata": {},
     "output_type": "display_data"
    },
    {
     "data": {
      "text/latex": [
       "$\\displaystyle S_{ 97 } \\approx 4.16727650753861$"
      ],
      "text/plain": [
       "<IPython.core.display.Math object>"
      ]
     },
     "metadata": {},
     "output_type": "display_data"
    },
    {
     "data": {
      "text/latex": [
       "$\\displaystyle S_{ 98 } \\approx 4.17737751763962$"
      ],
      "text/plain": [
       "<IPython.core.display.Math object>"
      ]
     },
     "metadata": {},
     "output_type": "display_data"
    },
    {
     "data": {
      "text/latex": [
       "$\\displaystyle S_{ 99 } \\approx 4.18737751763962$"
      ],
      "text/plain": [
       "<IPython.core.display.Math object>"
      ]
     },
     "metadata": {},
     "output_type": "display_data"
    },
    {
     "data": {
      "text/latex": [
       "$\\displaystyle S_{ 100 } \\approx 4.19727850773863$"
      ],
      "text/plain": [
       "<IPython.core.display.Math object>"
      ]
     },
     "metadata": {},
     "output_type": "display_data"
    },
    {
     "data": {
      "image/png": "[encoded data removed]",
      "text/plain": [
       "<Figure size 640x480 with 1 Axes>"
      ]
     },
     "metadata": {},
     "output_type": "display_data"
    }
   ],
   "source": [
    "from IPython.display import display, Math   # For LaTeX rendering\n",
    "import math                                 # Leave this be, usually for math.factorial()\n",
    "import matplotlib.pyplot as plt             # For plotting the partial sum\n",
    "import numpy as np                          # Leave this be, usually for np.sin(), np.cos(), etc.\n",
    "\n",
    "# Series Function\n",
    "# Use parentheses if needed, this function runs according to the order of operations.\n",
    "# 1 / n + 1 IS DIFFERENT FROM 1 / (n + 1)!\n",
    "def s(n):\n",
    "    return 1 / (n + 1) \n",
    "\n",
    "# Start at this number, usually n = 0 or n = 1\n",
    "n = 0\n",
    "# How many partial sums to calculate\n",
    "L = 100\n",
    "# Don't worry about this\n",
    "num = np.arange(n, L + 1)\n",
    "seq = np.cumsum([s(i) for i in num])\n",
    "\n",
    "# Print the first n partial sums\n",
    "def print_first(vals):\n",
    "    first_vals = seq[:vals]\n",
    "    for i, sum in enumerate(first_vals, start = n):\n",
    "        display(Math(r\"$S_{{ {} }} \\approx {}$\".format(i, sum)))\n",
    "\n",
    "# Print the last n partial sums\n",
    "def print_last(vals):\n",
    "    last_vals = seq[-vals:]\n",
    "    index = len(seq) - vals + 1\n",
    "    for i, sum in enumerate(last_vals, start = index):\n",
    "        display(Math(r\"$S_{{ {} }} \\approx {}$\".format(i, sum)))\n",
    "\n",
    "# Plots the sequence of partial sums\n",
    "def plot_sum():\n",
    "    plt.clf()\n",
    "    plt.style.use(\"fivethirtyeight\")\n",
    "    plt.scatter(num, seq)\n",
    "    plt.xlabel(r\"$n$\")\n",
    "    plt.ylabel(r\"$\\sum_{{n = {} }}^{{ {} }} a_n$\".format(n, L))\n",
    "    plt.show()\n",
    "\n",
    "# Call the functions here:\n",
    "print_first(5)\n",
    "print_last(5)\n",
    "plot_sum()"
   ]
  }
 ],
 "metadata": {
  "kernelspec": {
   "display_name": "venv",
   "language": "python",
   "name": "python3"
  },
  "language_info": {
   "codemirror_mode": {
    "name": "ipython",
    "version": 3
   },
   "file_extension": ".py",
   "mimetype": "text/x-python",
   "name": "python",
   "nbconvert_exporter": "python",
   "pygments_lexer": "ipython3",
   "version": "3.12.2"
  }
 },
 "nbformat": 4,
 "nbformat_minor": 2
}
