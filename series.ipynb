{
 "cells": [
  {
   "cell_type": "code",
   "execution_count": null,
   "metadata": {},
   "outputs": [],
   "source": [
    "from IPython.display import display, Math   # For LaTeX rendering\n",
    "import math                                 # Leave this be, usually for math.factorial()\n",
    "import matplotlib.pyplot as plt             # For plotting the partial sum\n",
    "import numpy as np                          # Leave this be, usually for np.sin(), np.cos(), etc.\n",
    "\n",
    "# Series Function\n",
    "def s(n):\n",
    "    return np.sin(n) / np.sqrt(n) \n",
    "\n",
    "# Start at this number\n",
    "n = 1\n",
    "# How many partial sums to calculate\n",
    "L = 100\n",
    "# Don't worry about this\n",
    "num = list(range(n, L + 1))\n",
    "seq = np.cumsum([s(i) for i in num])\n",
    "\n",
    "# Print the first n partial sums\n",
    "def print_first(vals):\n",
    "    first_vals = seq[:vals]\n",
    "    for i, sum in enumerate(first_vals, start = n):\n",
    "        display(Math(r\"$S_{{ {} }} \\approx {}$\".format(i, sum)))\n",
    "\n",
    "# Print the last n partial sums\n",
    "def print_last(vals):\n",
    "    last_vals = seq[-vals:]\n",
    "    index = len(seq) - vals + 1\n",
    "    for i, sum in enumerate(last_vals, start = index):\n",
    "        display(Math(r\"$S_{{ {} }} \\approx {}$\".format(i, sum)))\n",
    "\n",
    "# Graphs the sequence of partial sums\n",
    "def plot_sum():\n",
    "    plt.clf()\n",
    "    plt.style.use(\"fivethirtyeight\")\n",
    "    plt.scatter(num, seq)\n",
    "    plt.xlabel(r\"$n$\")\n",
    "    plt.ylabel(r\"$\\sum_{{n = {} }}^{{ {} }} a_n$\".format(n, L))\n",
    "    plt.show()\n",
    "\n",
    "# Call the functions here:\n",
    "print_first(5)\n",
    "print_last(5)\n",
    "plot_sum()"
   ]
  }
 ],
 "metadata": {
  "kernelspec": {
   "display_name": "venv",
   "language": "python",
   "name": "python3"
  },
  "language_info": {
   "codemirror_mode": {
    "name": "ipython",
    "version": 3
   },
   "file_extension": ".py",
   "mimetype": "text/x-python",
   "name": "python",
   "nbconvert_exporter": "python",
   "pygments_lexer": "ipython3",
   "version": "3.12.2"
  }
 },
 "nbformat": 4,
 "nbformat_minor": 2
}
